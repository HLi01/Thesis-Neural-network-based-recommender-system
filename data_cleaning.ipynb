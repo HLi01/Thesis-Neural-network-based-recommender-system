{
 "cells": [
  {
   "cell_type": "code",
   "execution_count": 1,
   "metadata": {},
   "outputs": [],
   "source": [
    "import pandas as pd\n",
    "import numpy as np"
   ]
  },
  {
   "cell_type": "markdown",
   "metadata": {},
   "source": [
    "# Creating dataframe"
   ]
  },
  {
   "cell_type": "code",
   "execution_count": 35,
   "metadata": {},
   "outputs": [
    {
     "name": "stdout",
     "output_type": "stream",
     "text": [
      "(120517, 38)\n",
      "       tconst                   primaryTitle  startYear  runtimeMinutes  \\\n",
      "0   tt0000009                     Miss Jerry       1894              45   \n",
      "1   tt0000147  The Corbett-Fitzsimmons Fight       1897             100   \n",
      "2   tt0000574    The Story of the Kelly Gang       1906              70   \n",
      "3   tt0001892                 Den sorte drøm       1911              53   \n",
      "4   tt0002101                      Cleopatra       1912             100   \n",
      "..        ...                            ...        ...             ...   \n",
      "95  tt0007260        The Return of Draw Egan       1916              50   \n",
      "96  tt0007309             Shoe Palace Pinkus       1916              45   \n",
      "97  tt0007338                Sherlock Holmes       1916             116   \n",
      "98  tt0007340                          Shoes       1916              60   \n",
      "99  tt0007361                     Snow White       1916              63   \n",
      "\n",
      "    averageRating  numVotes  Action  Adult  Adventure  Animation  ...  Short  \\\n",
      "0             5.3       207       0      0          0          0  ...      0   \n",
      "1             5.3       482       0      0          0          0  ...      0   \n",
      "2             6.0       852       1      0          1          0  ...      0   \n",
      "3             5.8       253       0      0          0          0  ...      0   \n",
      "4             5.1       571       0      0          0          0  ...      0   \n",
      "..            ...       ...     ...    ...        ...        ...  ...    ...   \n",
      "95            6.2       197       1      0          1          0  ...      0   \n",
      "96            5.6       279       0      0          0          0  ...      0   \n",
      "97            6.2       456       0      0          0          0  ...      0   \n",
      "98            6.9       710       0      0          0          0  ...      0   \n",
      "99            6.3       422       0      0          0          0  ...      0   \n",
      "\n",
      "    Sport  Talk-Show  Thriller  War  Western  \\\n",
      "0       0          0         0    0        0   \n",
      "1       1          0         0    0        0   \n",
      "2       0          0         0    0        0   \n",
      "3       0          0         0    0        0   \n",
      "4       0          0         0    0        0   \n",
      "..    ...        ...       ...  ...      ...   \n",
      "95      0          0         0    0        0   \n",
      "96      0          0         0    0        0   \n",
      "97      0          0         0    0        0   \n",
      "98      0          0         0    0        0   \n",
      "99      0          0         0    0        0   \n",
      "\n",
      "                                             overview  tmdbVoteAvg  \\\n",
      "0   The adventures of a female reporter in the 1890s.        5.000   \n",
      "1   This legendary fight was filmed on March 17, 1...        5.500   \n",
      "2   Just as Galeen and Wegener's Der Golem (1915) ...        5.397   \n",
      "3   Stella, a circus princess, has two suitors: yo...        4.700   \n",
      "4   The fabled queen of Egypt's affair with Roman ...        3.200   \n",
      "..                                                ...          ...   \n",
      "95  A small town marshal’s secret past as an outla...        5.400   \n",
      "96  Sally Pinkus is an German-Jewish boy who takes...        5.700   \n",
      "97  When a couple of scammers hold young Alice Fau...        5.100   \n",
      "98  A young working girl must support her family o...        6.100   \n",
      "99  Snow White, a beautiful girl, is despised by a...        5.700   \n",
      "\n",
      "                              poster  score  \n",
      "0   /eDRXkbGYQf4TIrha6Akg24mZuXN.jpg    NaN  \n",
      "1   /nL7aYlGYJZU7Gx8kFu9bTp3QYRu.jpg    NaN  \n",
      "2   /4CHQV5nRoHwpaS8LaGNxTh8V0ad.jpg    NaN  \n",
      "3   /pqDNASbQdqDcUH32PZUh1td7AwN.jpg    NaN  \n",
      "4   /veURP5WEMB7mKLkCbqYHkJm0O0g.jpg    NaN  \n",
      "..                               ...    ...  \n",
      "95  /7MrBXHdYfMnnLj2TR13kW4pGDO3.jpg    NaN  \n",
      "96  /ofshijTkIrvfINXVsLR4kTc0rsM.jpg    NaN  \n",
      "97  /qxbSnrfaPbfM2jYuS7OGOfExtOK.jpg    NaN  \n",
      "98  /vICb3QVdn8uyUl5FG87v8TBhFli.jpg    NaN  \n",
      "99  /lejbiFj0Vg5bGWZSLWvvj8zSdK4.jpg    NaN  \n",
      "\n",
      "[100 rows x 38 columns]\n"
     ]
    }
   ],
   "source": [
    "df=pd.read_csv('base.tsv', sep='\\t')\n",
    "print(df.shape)\n",
    "print(df.head(100))"
   ]
  },
  {
   "attachments": {},
   "cell_type": "markdown",
   "metadata": {},
   "source": [
    "# Cleaning titles"
   ]
  },
  {
   "cell_type": "code",
   "execution_count": 4,
   "metadata": {},
   "outputs": [
    {
     "data": {
      "text/plain": [
       "array(['short', 'movie', 'tvShort', 'tvMovie', 'tvSeries', 'tvEpisode',\n",
       "       'tvMiniSeries', 'tvSpecial', 'video', 'videoGame', 'tvPilot'],\n",
       "      dtype=object)"
      ]
     },
     "execution_count": 4,
     "metadata": {},
     "output_type": "execute_result"
    }
   ],
   "source": [
    "df['titleType'].unique()"
   ]
  },
  {
   "cell_type": "code",
   "execution_count": 5,
   "metadata": {},
   "outputs": [],
   "source": [
    "df=df[~df[\"titleType\"].str.contains('short')]\n",
    "df=df[~df[\"titleType\"].str.contains('tvEpisode')]\n",
    "df=df[~df[\"titleType\"].str.contains('tvSpecial')]\n",
    "df=df[~df[\"titleType\"].str.contains('video')]\n",
    "df=df[~df[\"titleType\"].str.contains('videoGame')]\n",
    "df=df[~df[\"titleType\"].str.contains('tvPilot')]"
   ]
  },
  {
   "cell_type": "code",
   "execution_count": 6,
   "metadata": {},
   "outputs": [
    {
     "data": {
      "text/plain": [
       "array(['movie', 'tvShort', 'tvMovie', 'tvSeries', 'tvMiniSeries'],\n",
       "      dtype=object)"
      ]
     },
     "execution_count": 6,
     "metadata": {},
     "output_type": "execute_result"
    }
   ],
   "source": [
    "df['titleType'].unique()"
   ]
  },
  {
   "attachments": {},
   "cell_type": "markdown",
   "metadata": {},
   "source": [
    "# Cleaning ratings"
   ]
  },
  {
   "cell_type": "code",
   "execution_count": null,
   "metadata": {},
   "outputs": [],
   "source": [
    "df_ratings=pd.read_csv('dataratings.tsv', sep='\\t', header=0, quoting=3)\n",
    "print(df_ratings.shape)\n",
    "print(df_ratings.head(100))"
   ]
  },
  {
   "cell_type": "code",
   "execution_count": 12,
   "metadata": {},
   "outputs": [],
   "source": [
    "df=df.drop(columns=['isAdult','endYear', 'originalTitle'])"
   ]
  },
  {
   "cell_type": "code",
   "execution_count": 13,
   "metadata": {},
   "outputs": [],
   "source": [
    "df=pd.merge(df, df_ratings, on='tconst')"
   ]
  },
  {
   "cell_type": "code",
   "execution_count": 19,
   "metadata": {},
   "outputs": [],
   "source": [
    "df=df.dropna(subset=['startYear', 'runtimeMinutes', 'genres', 'primaryTitle'])"
   ]
  },
  {
   "attachments": {},
   "cell_type": "markdown",
   "metadata": {},
   "source": [
    "# Splitting genres"
   ]
  },
  {
   "cell_type": "code",
   "execution_count": null,
   "metadata": {},
   "outputs": [],
   "source": [
    "genre_dummies = df['genres'].str.get_dummies(sep=',')"
   ]
  },
  {
   "cell_type": "code",
   "execution_count": 33,
   "metadata": {},
   "outputs": [],
   "source": [
    "df = pd.concat([df, genre_dummies], axis=1)"
   ]
  },
  {
   "cell_type": "code",
   "execution_count": 35,
   "metadata": {},
   "outputs": [],
   "source": [
    "df.drop(columns=['genres'], inplace=True)"
   ]
  },
  {
   "cell_type": "code",
   "execution_count": 36,
   "metadata": {},
   "outputs": [
    {
     "data": {
      "text/plain": [
       "205231"
      ]
     },
     "execution_count": 36,
     "metadata": {},
     "output_type": "execute_result"
    }
   ],
   "source": [
    "len(df[df['numVotes']<100])"
   ]
  },
  {
   "cell_type": "markdown",
   "metadata": {},
   "source": [
    "# Deleting rows where number of votes are less than 100"
   ]
  },
  {
   "cell_type": "code",
   "execution_count": 37,
   "metadata": {},
   "outputs": [],
   "source": [
    "df = df[df['numVotes'] >= 100]"
   ]
  },
  {
   "cell_type": "markdown",
   "metadata": {},
   "source": [
    "# API Calls from TMDb"
   ]
  },
  {
   "cell_type": "code",
   "execution_count": 6,
   "metadata": {},
   "outputs": [],
   "source": [
    "import requests\n",
    "import pandas as pd\n",
    "import warnings\n",
    "\n",
    "# To ignore all warnings (not recommended)\n",
    "warnings.filterwarnings(\"ignore\")\n",
    "\n",
    "# Define your API_KEY securely\n",
    "API_KEY = 'fa9272e4589b7ec38b742c278e16a2f0'\n",
    "\n",
    "# Initialize lists to store data before updating the DataFrame\n",
    "\n",
    "values=pd.DataFrame()\n",
    "\n",
    "for index, row in df.iterrows():\n",
    "    id = row['tconst']\n",
    "    query = f'https://api.themoviedb.org/3/find/{id}?api_key={API_KEY}&language=en-US&external_source=imdb_id'\n",
    "\n",
    "    try:\n",
    "        response = requests.get(query)\n",
    "        response.raise_for_status()  # Raise an exception for HTTP errors\n",
    "\n",
    "        movie = response.json()\n",
    "        if 'tv_results' in movie and len(movie['tv_results']) > 0:\n",
    "            result = movie['tv_results'][0]\n",
    "        elif 'movie_results' in movie and len(movie['movie_results']) > 0:\n",
    "            result = movie['movie_results'][0]\n",
    "        else:\n",
    "            # Handle the case where there are no results\n",
    "            result = None\n",
    "        \n",
    "        if result:\n",
    "            overview = result.get('overview', '')\n",
    "            tmdb_vote_avg = result.get('vote_average', 0)\n",
    "            poster_path = result.get('poster_path', '')\n",
    "\n",
    "            overview = overview[:400]  # Limit overview text to 400 characters (adjust as needed)\n",
    "\n",
    "            values = values.append({\"overview\":overview, \"tmdbVoteAvg\": tmdb_vote_avg, \"poster\": poster_path}, ignore_index=True)\n",
    "            #overviews.append(overview)\n",
    "            #tmdb_vote_avgs.append(tmdb_vote_avg)\n",
    "            #posters.append(f\"https://www.themoviedb.org/t/p/w600_and_h900_bestv2/{poster_path}\")\n",
    "        else:\n",
    "            # Handle the case where there are no valid results\n",
    "            values = values.append({\"overview\":'', \"tmdbVoteAvg\": np.nan, \"poster\": ''}, ignore_index=True)\n",
    "\n",
    "    except requests.exceptions.RequestException as e:\n",
    "        print(f\"Error making API request for {id}: {e}\")\n",
    "\n",
    "df = pd.concat([df, values], axis=1)\n"
   ]
  },
  {
   "cell_type": "markdown",
   "metadata": {},
   "source": [
    "# Delete rows with empty overview, average tmdb vote, and poster"
   ]
  },
  {
   "cell_type": "code",
   "execution_count": 17,
   "metadata": {},
   "outputs": [],
   "source": [
    "df=df[df['overview']!='']"
   ]
  },
  {
   "cell_type": "code",
   "execution_count": 34,
   "metadata": {},
   "outputs": [
    {
     "data": {
      "text/html": [
       "<div>\n",
       "<style scoped>\n",
       "    .dataframe tbody tr th:only-of-type {\n",
       "        vertical-align: middle;\n",
       "    }\n",
       "\n",
       "    .dataframe tbody tr th {\n",
       "        vertical-align: top;\n",
       "    }\n",
       "\n",
       "    .dataframe thead th {\n",
       "        text-align: right;\n",
       "    }\n",
       "</style>\n",
       "<table border=\"1\" class=\"dataframe\">\n",
       "  <thead>\n",
       "    <tr style=\"text-align: right;\">\n",
       "      <th></th>\n",
       "      <th>tconst</th>\n",
       "      <th>titleType</th>\n",
       "      <th>primaryTitle</th>\n",
       "      <th>startYear</th>\n",
       "      <th>runtimeMinutes</th>\n",
       "      <th>averageRating</th>\n",
       "      <th>numVotes</th>\n",
       "      <th>Action</th>\n",
       "      <th>Adult</th>\n",
       "      <th>Adventure</th>\n",
       "      <th>...</th>\n",
       "      <th>Sci-Fi</th>\n",
       "      <th>Short</th>\n",
       "      <th>Sport</th>\n",
       "      <th>Talk-Show</th>\n",
       "      <th>Thriller</th>\n",
       "      <th>War</th>\n",
       "      <th>Western\\r</th>\n",
       "      <th>overview</th>\n",
       "      <th>tmdbVoteAvg</th>\n",
       "      <th>poster</th>\n",
       "    </tr>\n",
       "  </thead>\n",
       "  <tbody>\n",
       "  </tbody>\n",
       "</table>\n",
       "<p>0 rows × 38 columns</p>\n",
       "</div>"
      ],
      "text/plain": [
       "Empty DataFrame\n",
       "Columns: [tconst, titleType, primaryTitle, startYear, runtimeMinutes, averageRating, numVotes, Action, Adult, Adventure, Animation, Biography, Comedy, Crime, Documentary, Drama, Family, Fantasy, Film-Noir, Game-Show, History, Horror, Music, Musical, Mystery, News, Reality-TV, Romance, Sci-Fi, Short, Sport, Talk-Show, Thriller, War, Western\n",
       ", overview, tmdbVoteAvg, poster]\n",
       "Index: []\n",
       "\n",
       "[0 rows x 38 columns]"
      ]
     },
     "execution_count": 34,
     "metadata": {},
     "output_type": "execute_result"
    }
   ],
   "source": [
    "df=df[df['tmdbVoteAvg']!=0]"
   ]
  },
  {
   "cell_type": "code",
   "execution_count": 36,
   "metadata": {},
   "outputs": [],
   "source": [
    "df=df[~df['poster'].isna()]"
   ]
  },
  {
   "cell_type": "markdown",
   "metadata": {},
   "source": [
    "# Export dataframe"
   ]
  },
  {
   "cell_type": "code",
   "execution_count": 43,
   "metadata": {},
   "outputs": [
    {
     "data": {
      "text/plain": [
       "False"
      ]
     },
     "execution_count": 43,
     "metadata": {},
     "output_type": "execute_result"
    }
   ],
   "source": [
    "df.isnull().any(axis=1).any()"
   ]
  },
  {
   "cell_type": "code",
   "execution_count": 34,
   "metadata": {},
   "outputs": [],
   "source": [
    "df.to_csv('base.tsv', sep=\"\\t\", index=False)"
   ]
  },
  {
   "cell_type": "markdown",
   "metadata": {},
   "source": [
    "# Splitting movies and series"
   ]
  },
  {
   "cell_type": "code",
   "execution_count": 50,
   "metadata": {},
   "outputs": [
    {
     "data": {
      "text/plain": [
       "array(['movie', 'tvSeries', 'tvMovie', 'tvMiniSeries', 'tvShort'],\n",
       "      dtype=object)"
      ]
     },
     "execution_count": 50,
     "metadata": {},
     "output_type": "execute_result"
    }
   ],
   "source": [
    "df.titleType.unique()"
   ]
  },
  {
   "cell_type": "code",
   "execution_count": null,
   "metadata": {},
   "outputs": [],
   "source": [
    "movies=df[(df['titleType']=='movie') | (df['titleType']=='tvMovie')]"
   ]
  },
  {
   "cell_type": "code",
   "execution_count": 55,
   "metadata": {},
   "outputs": [],
   "source": [
    "series=df[(df['titleType']=='tvSeries') | (df['titleType']=='tvMiniSeries')]"
   ]
  },
  {
   "cell_type": "code",
   "execution_count": 58,
   "metadata": {},
   "outputs": [],
   "source": [
    "movies= movies.drop('titleType', axis=1)\n",
    "series= series.drop('titleType', axis=1)"
   ]
  },
  {
   "cell_type": "code",
   "execution_count": 60,
   "metadata": {},
   "outputs": [],
   "source": [
    "movies.to_csv('movies.tsv', sep=\"\\t\", index=False)\n",
    "series.to_csv('series.tsv', sep=\"\\t\", index=False)"
   ]
  }
 ],
 "metadata": {
  "kernelspec": {
   "display_name": "Python 3",
   "language": "python",
   "name": "python3"
  },
  "language_info": {
   "codemirror_mode": {
    "name": "ipython",
    "version": 3
   },
   "file_extension": ".py",
   "mimetype": "text/x-python",
   "name": "python",
   "nbconvert_exporter": "python",
   "pygments_lexer": "ipython3",
   "version": "3.11.2"
  },
  "orig_nbformat": 4,
  "vscode": {
   "interpreter": {
    "hash": "fbe02b52dab2ae4f1b94e0b03b3febbd6823192cfdfc9877bac6ab03688095d4"
   }
  }
 },
 "nbformat": 4,
 "nbformat_minor": 2
}
